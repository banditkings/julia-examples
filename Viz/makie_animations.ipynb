{
 "cells": [
  {
   "cell_type": "markdown",
   "id": "2dc760a9",
   "metadata": {},
   "source": [
    "# Animations in Makie\n",
    "\n",
    "Experimenting with `Makie` [animations](https://docs.makie.org/v0.18.0/documentation/animation/index.html) to see if it's viable."
   ]
  },
  {
   "cell_type": "code",
   "execution_count": 1,
   "id": "22e32393",
   "metadata": {},
   "outputs": [],
   "source": [
    "using GLMakie\n",
    "\n",
    "# Use a custom theme for fun\n",
    "cyberpunk_theme = Theme(\n",
    "        # teal/cyan, pink, yellow, matrix green, red, violet\n",
    "        palette = (color =[\"#08F7FE\", \"#FE53BB\", \"#F5D300\", \"#00ff41\", :red, \"#9467bd\"],),\n",
    "        backgroundcolor = \"#212946\",\n",
    "        textcolor=:gray90,\n",
    "        resolution=(640,320),\n",
    "        fontsize=12,\n",
    "        font = \"Arial\",\n",
    "        colormap = :cool,\n",
    "        cycle = Cycle([:color]),\n",
    "        Axis = ( \n",
    "            backgroundcolor = \"#212946\",\n",
    "            topspinevisible = false,\n",
    "            rightspinevisible = false,\n",
    "            xgridcolor = \"#2A3459\",\n",
    "            ygridcolor = \"#2A3459\",\n",
    "            bottomspinecolor = \"#2A3459\",\n",
    "            leftspinecolor = \"#2A3459\",\n",
    "            ytickcolor = \"#2A3459\",\n",
    "            xtickcolor = \"#2A3459\",\n",
    "            titlesize=16,\n",
    "            yautolimitmargin=(0.05, 0.1), # Leaves room for label text\n",
    "            ),\n",
    "        Legend = (\n",
    "            bgcolor = \"#212946\",\n",
    "            framecolor = \"#2A3459\",\n",
    "        ),            \n",
    "        # Note in order to apply specific settings to plot types we need to use the Struct/type\n",
    "        # so to theme barplots() you need to use the BarPlot type\n",
    "        Lines = (\n",
    "            linewidth=2,),\n",
    "        BarPlot = (\n",
    "            cycle=Cycle([:color]), # Interesting that I have to put it here\n",
    "            label_size=12,\n",
    "        )\n",
    ")\n",
    "\n",
    "set_theme!(cyberpunk_theme)"
   ]
  },
  {
   "cell_type": "markdown",
   "id": "63924e10",
   "metadata": {},
   "source": [
    "From the docs:\n",
    "\n",
    "> To create an animation you need to use the `record` function.\n",
    "\n",
    "> * First you create a `Figure`\n",
    "> * Next, you pass a function that modifies this figure frame-by-frame to record. Any changes you make to the figure or its plots will appear in the final animation. \n",
    "> * You also need to pass an iterable which has as many elements as you want frames in your animation. The function that you pass as the first argument is called with each element from this iterator over the course of the animation."
   ]
  },
  {
   "cell_type": "markdown",
   "id": "b103b4e3",
   "metadata": {},
   "source": [
    "## A simple goal: Create a dot that moves up and to the right\n",
    "\n",
    "Let's try to keep this example really, really simple: animate a dot that's moving up and to the right as time passes by. \n",
    "\n",
    "To do that, I think we have to understand two key concepts: `Observable`s and listeners:"
   ]
  },
  {
   "cell_type": "markdown",
   "id": "80cf7dad",
   "metadata": {},
   "source": [
    "### Observables\n",
    "\n",
    "An `Observable` is something that `Makie` is designed to 'listen' to and react to changes. We declare an `Observable` like below:"
   ]
  },
  {
   "cell_type": "code",
   "execution_count": 50,
   "id": "5eb53454",
   "metadata": {},
   "outputs": [
    {
     "data": {
      "text/plain": [
       "Observable{Float64} with 0 listeners. Value:\n",
       "0.0"
      ]
     },
     "execution_count": 50,
     "metadata": {},
     "output_type": "execute_result"
    }
   ],
   "source": [
    "time = Observable(0.0)"
   ]
  },
  {
   "cell_type": "markdown",
   "id": "efe7266f",
   "metadata": {},
   "source": [
    "The above code created an `Observable` called `time` that currently has the value of 0.0. We can update the current value of `time` by simply using this *empty* bracket notation:"
   ]
  },
  {
   "cell_type": "code",
   "execution_count": 51,
   "id": "429ce338",
   "metadata": {},
   "outputs": [
    {
     "data": {
      "text/plain": [
       "Observable{Float64} with 0 listeners. Value:\n",
       "10.0"
      ]
     },
     "execution_count": 51,
     "metadata": {},
     "output_type": "execute_result"
    }
   ],
   "source": [
    "time[] = 10\n",
    "time"
   ]
  },
  {
   "cell_type": "markdown",
   "id": "a60a4f81",
   "metadata": {},
   "source": [
    "### Create listeners:\n",
    "\n",
    "Use the `@lift` macro to define a relationship with an `Observable`. \n",
    "\n",
    "In this example, both the `x` and `y` coordinates will depend only on `time`:"
   ]
  },
  {
   "cell_type": "code",
   "execution_count": 52,
   "id": "f94421d6",
   "metadata": {},
   "outputs": [
    {
     "data": {
      "text/plain": [
       "Observable{Float64} with 2 listeners. Value:\n",
       "10.0"
      ]
     },
     "execution_count": 52,
     "metadata": {},
     "output_type": "execute_result"
    }
   ],
   "source": [
    "x = @lift(1 + $time)\n",
    "y = @lift(5 + 0.5*($time))\n",
    "# look at time\n",
    "time"
   ]
  },
  {
   "cell_type": "markdown",
   "id": "0c654606",
   "metadata": {},
   "source": [
    "If we look at `time` again, we should see that it has 2 listeners now."
   ]
  },
  {
   "cell_type": "markdown",
   "id": "4816d022",
   "metadata": {},
   "source": [
    "Then we need to follow the 3 steps to create our animation:\n",
    "\n",
    "* create figure: `fig`\n",
    "* iterator: `timestamps`\n",
    "* function: `move_dot`\n",
    "    * Changes the value of `time`, which in turn, changes `x` and `y`"
   ]
  },
  {
   "cell_type": "code",
   "execution_count": 39,
   "id": "507c10d3",
   "metadata": {},
   "outputs": [
    {
     "data": {
      "text/plain": [
       "\"moving_dot.gif\""
      ]
     },
     "execution_count": 39,
     "metadata": {},
     "output_type": "execute_result"
    }
   ],
   "source": [
    "# 1. Create a figure\n",
    "fig = scatter(x, y, color = :red, markersize = 20,\n",
    "    axis = (title = @lift(\"t = $(round($time, digits =1))\"),))\n",
    "\n",
    "# Next, pass a function that modifies this figure frame by frame to record.\n",
    "\"\"\"Set the observable `time` equal to t\"\"\"\n",
    "function move_dot(t)\n",
    "    time[] = t\n",
    "end\n",
    "\n",
    "# pass an iterable that has the same number of elements as frames in the animation\n",
    "framerate = 30\n",
    "timestamps = range(0, 5, step=1/30)\n",
    "\n",
    "# Create an animation\n",
    "record(move_dot, fig, \"moving_dot.gif\", timestamps;\n",
    "        framerate = framerate) \n",
    "\n",
    "# # Alternate with `do` notation:\n",
    "# record(fig, \"moving_dot.gif\", timestamps;\n",
    "#         framerate = framerate) do t\n",
    "#     time[] = t\n",
    "# end"
   ]
  },
  {
   "cell_type": "markdown",
   "id": "88e62728",
   "metadata": {},
   "source": [
    "What this code does:\n",
    "* for every `t` in the iterator `timestamps` which is a range between 0 and 5\n",
    "* call the `move_dot` function with a single `t` as input\n",
    "* each frame of animation will be based on each visualization after `move_dot` changes the `x` and `y` values"
   ]
  },
  {
   "cell_type": "markdown",
   "id": "a94dcc7b",
   "metadata": {},
   "source": [
    "![img](moving_dot.gif)"
   ]
  },
  {
   "cell_type": "markdown",
   "id": "b202c38f",
   "metadata": {},
   "source": [
    "Instead of setting `x` and `y` as listeners that depend on `time`, we could instead change the type of `Observable` so that it's a 2d point.\n",
    "\n",
    "What about using a `Point2f` type as the `Observable`?"
   ]
  },
  {
   "cell_type": "code",
   "execution_count": 53,
   "id": "3d115afc",
   "metadata": {},
   "outputs": [
    {
     "data": {
      "text/plain": [
       "\"moving_dot2.gif\""
      ]
     },
     "execution_count": 53,
     "metadata": {},
     "output_type": "execute_result"
    }
   ],
   "source": [
    "location = Observable(Point2f(0,0))\n",
    "\n",
    "# 1. Create a figure\n",
    "fig, ax, scatterplot = scatter(location, color = :red, markersize = 20,\n",
    "    axis = (title = @lift(\"t = $($location)\"),))\n",
    "\n",
    "# Pro tip: The scale of the axis doesn't update automatically as the dot moves,\n",
    "# so manually set your limits!\n",
    "limits!(ax, 0, 30, 0, 30)\n",
    "\n",
    "# Next, pass a function that modifies this figure frame by frame to record.\n",
    "\"\"\"Set the observable `time` equal to t\"\"\"\n",
    "function move_dot2(i)\n",
    "    location[] = location[] + [0.5, 0.75]\n",
    "end\n",
    "\n",
    "# pass an iterable that has the same number of elements as frames in the animation\n",
    "framerate = 30\n",
    "frames = 1:30\n",
    "\n",
    "# Create an animation\n",
    "record(move_dot2, fig, \"moving_dot2.gif\", frames;\n",
    "        framerate = framerate) "
   ]
  },
  {
   "cell_type": "markdown",
   "id": "4cfdf17c",
   "metadata": {},
   "source": [
    "![img](moving_dot2.gif)"
   ]
  },
  {
   "cell_type": "code",
   "execution_count": null,
   "id": "7b5efb43",
   "metadata": {},
   "outputs": [],
   "source": []
  }
 ],
 "metadata": {
  "hide_input": false,
  "kernelspec": {
   "display_name": "Julia 1.8.1",
   "language": "julia",
   "name": "julia-1.8"
  },
  "language_info": {
   "file_extension": ".jl",
   "mimetype": "application/julia",
   "name": "julia",
   "version": "1.8.1"
  },
  "toc": {
   "base_numbering": 1,
   "nav_menu": {},
   "number_sections": true,
   "sideBar": true,
   "skip_h1_title": false,
   "title_cell": "Table of Contents",
   "title_sidebar": "Contents",
   "toc_cell": false,
   "toc_position": {},
   "toc_section_display": true,
   "toc_window_display": false
  },
  "varInspector": {
   "cols": {
    "lenName": 16,
    "lenType": 16,
    "lenVar": 40
   },
   "kernels_config": {
    "python": {
     "delete_cmd_postfix": "",
     "delete_cmd_prefix": "del ",
     "library": "var_list.py",
     "varRefreshCmd": "print(var_dic_list())"
    },
    "r": {
     "delete_cmd_postfix": ") ",
     "delete_cmd_prefix": "rm(",
     "library": "var_list.r",
     "varRefreshCmd": "cat(var_dic_list()) "
    }
   },
   "types_to_exclude": [
    "module",
    "function",
    "builtin_function_or_method",
    "instance",
    "_Feature"
   ],
   "window_display": false
  }
 },
 "nbformat": 4,
 "nbformat_minor": 5
}
