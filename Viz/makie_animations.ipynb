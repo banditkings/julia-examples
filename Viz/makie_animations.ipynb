{
 "cells": [
  {
   "attachments": {},
   "cell_type": "markdown",
   "id": "2dc760a9",
   "metadata": {},
   "source": [
    "# Animations in Makie\n",
    "\n",
    "Experimenting with `Makie` [animations](https://docs.makie.org/v0.18.0/documentation/animation/index.html) to see if it's viable.\n",
    "\n",
    "So far, I haven't found a viable use case for this yet since the base `Plots` library in Julia is so good and the syntax there is more intuitive."
   ]
  },
  {
   "cell_type": "code",
   "execution_count": 1,
   "id": "22e32393",
   "metadata": {},
   "outputs": [],
   "source": [
    "# using GLMakie\n",
    "using CairoMakie\n",
    "# Use a custom theme for fun\n",
    "include(\"cyberpunk_theme.jl\")\n",
    "set_theme!(cyberpunk_theme)"
   ]
  },
  {
   "cell_type": "markdown",
   "id": "63924e10",
   "metadata": {},
   "source": [
    "From the docs:\n",
    "\n",
    "> To create an animation you need to use the `record` function.\n",
    "\n",
    "> * First you create a `Figure`\n",
    "> * Next, you pass a function that modifies this figure frame-by-frame to record. Any changes you make to the figure or its plots will appear in the final animation. \n",
    "> * You also need to pass an iterable which has as many elements as you want frames in your animation. The function that you pass as the first argument is called with each element from this iterator over the course of the animation."
   ]
  },
  {
   "attachments": {},
   "cell_type": "markdown",
   "id": "b103b4e3",
   "metadata": {},
   "source": [
    "## A simple goal: Create a dot that moves up and to the right\n",
    "\n",
    "Let's try to keep this example really, really simple: animate a dot that's moving up and to the right as time passes by. \n",
    "\n",
    "To do that, I think we have to understand two key concepts: `Observable`s and *listeners*.\n",
    "\n",
    "* `Observable`: A variable that changes with each frame in your animation\n",
    "* *listeners*: Functions of the `Observable`"
   ]
  },
  {
   "cell_type": "markdown",
   "id": "80cf7dad",
   "metadata": {},
   "source": [
    "### Observables\n",
    "\n",
    "An `Observable` is something that `Makie` is designed to 'listen' to and react to changes. We declare an `Observable` like below:"
   ]
  },
  {
   "cell_type": "code",
   "execution_count": 2,
   "id": "5eb53454",
   "metadata": {},
   "outputs": [
    {
     "data": {
      "text/plain": [
       "Observable(0.0)\n"
      ]
     },
     "execution_count": 2,
     "metadata": {},
     "output_type": "execute_result"
    }
   ],
   "source": [
    "time = Observable(0.0)"
   ]
  },
  {
   "cell_type": "markdown",
   "id": "efe7266f",
   "metadata": {},
   "source": [
    "The above code created an `Observable` called `time` that currently has the value of 0.0. We can update the current value of `time` by simply using this *empty* bracket notation:"
   ]
  },
  {
   "cell_type": "code",
   "execution_count": 3,
   "id": "429ce338",
   "metadata": {},
   "outputs": [
    {
     "data": {
      "text/plain": [
       "Observable(10.0)\n"
      ]
     },
     "execution_count": 3,
     "metadata": {},
     "output_type": "execute_result"
    }
   ],
   "source": [
    "time[] = 10\n",
    "time"
   ]
  },
  {
   "cell_type": "markdown",
   "id": "a60a4f81",
   "metadata": {},
   "source": [
    "### Create listeners:\n",
    "\n",
    "Use the `@lift` macro to define a relationship with an `Observable`. \n",
    "\n",
    "In this example, both the `x` and `y` coordinates will depend only on `time`:"
   ]
  },
  {
   "cell_type": "code",
   "execution_count": 4,
   "id": "f94421d6",
   "metadata": {},
   "outputs": [
    {
     "data": {
      "text/plain": [
       "Observable(10.0)\n",
       "    0 => map((::var\"#1#2\")(arg1) in Main)\n",
       "    0 => map((::var\"#3#4\")(arg1) in Main)\n"
      ]
     },
     "execution_count": 4,
     "metadata": {},
     "output_type": "execute_result"
    }
   ],
   "source": [
    "x = @lift(1 + $time)\n",
    "y = @lift(5 + 0.5*($time))\n",
    "# look at time\n",
    "time"
   ]
  },
  {
   "cell_type": "markdown",
   "id": "0c654606",
   "metadata": {},
   "source": [
    "If we look at `time` again, we should see that it has 2 listeners now."
   ]
  },
  {
   "attachments": {},
   "cell_type": "markdown",
   "id": "4816d022",
   "metadata": {},
   "source": [
    "After we've created our `Observable` and *listeners* `x` and `y`, we need to follow 3 steps to create our animation:\n",
    "\n",
    "1. Create a figure: `fig`\n",
    "2. Create an iterator that has the same number of elements as frames in the animation: `timestamps`\n",
    "3. Create a function that changes the `Observable`: `move_dot`\n",
    "    * Changes the value of `time`, which in turn, changes `x` and `y`"
   ]
  },
  {
   "cell_type": "code",
   "execution_count": 5,
   "id": "507c10d3",
   "metadata": {},
   "outputs": [
    {
     "data": {
      "text/plain": [
       "\"moving_dot.gif\""
      ]
     },
     "execution_count": 5,
     "metadata": {},
     "output_type": "execute_result"
    }
   ],
   "source": [
    "# 0. Create `Observable` and listeners `x` and `y`:\n",
    "time = Observable(0.0)\n",
    "time[] = 10 # initial value\n",
    "x = @lift(1 + $time)       \n",
    "y = @lift(5 + 0.5*($time))\n",
    "\n",
    "# 1. Create a figure\n",
    "fig = scatter(x, y, color = :red, markersize = 20,\n",
    "    axis = (title = @lift(\"t = $(round($time, digits =1))\"),))\n",
    "\n",
    "# 2. Next, pass a function that modifies this figure frame by frame to record.\n",
    "\"\"\"\n",
    "Update the value of observable `time` to be equal to t, \n",
    "where t is from the timestamps iterator (i.e. a value between 0 and 5)\n",
    "\"\"\"\n",
    "function move_dot(t)\n",
    "    time[] = t\n",
    "end\n",
    "\n",
    "# 3. pass an iterable that has the same number of elements as frames in the animation\n",
    "framerate = 30\n",
    "timestamps = range(0, 5, step=1/framerate)\n",
    "\n",
    "# 4. Create an animation from the function\n",
    "record(move_dot, fig, \"moving_dot.gif\", timestamps;\n",
    "        framerate = framerate) \n",
    "\n",
    "# # Alternate with `do` notation to make an anonymous function:\n",
    "# record(fig, \"moving_dot.gif\", timestamps;\n",
    "#         framerate = framerate) do t\n",
    "#     time[] = t\n",
    "# end"
   ]
  },
  {
   "attachments": {},
   "cell_type": "markdown",
   "id": "88e62728",
   "metadata": {},
   "source": [
    "What this code does:\n",
    "* for every `t` in the iterator `timestamps` (which is a `range` between 0 and 5)\n",
    "* call the `move_dot` function with a single `t` as input\n",
    "* each frame of animation will be based on each visualization after `move_dot` changes the `x` and `y` values"
   ]
  },
  {
   "cell_type": "markdown",
   "id": "a94dcc7b",
   "metadata": {},
   "source": [
    "![img](moving_dot.gif)"
   ]
  },
  {
   "attachments": {},
   "cell_type": "markdown",
   "id": "b202c38f",
   "metadata": {},
   "source": [
    "What about using a `Point2f` type as the `Observable`? Instead of setting `x` and `y` as listeners that depend on `time`, we could instead change the type of `Observable` so that it's a 2d point."
   ]
  },
  {
   "cell_type": "code",
   "execution_count": 6,
   "id": "3d115afc",
   "metadata": {},
   "outputs": [
    {
     "data": {
      "text/plain": [
       "\"moving_dot2.gif\""
      ]
     },
     "execution_count": 6,
     "metadata": {},
     "output_type": "execute_result"
    }
   ],
   "source": [
    "# 0. Create a 2-d `Observable`/listener combo\n",
    "location = Observable(Point2f(0,0))\n",
    "\n",
    "# 1. Create a figure\n",
    "fig, ax, scatterplot = scatter(location, color = :red, markersize = 20,\n",
    "    axis = (title = @lift(\"t = $($location)\"),))\n",
    "\n",
    "# Pro tip: The scale of the axis doesn't update automatically as the dot moves,\n",
    "# so manually set your limits!\n",
    "limits!(ax, 0, 30, 0, 30)\n",
    "\n",
    "# 2. Next, pass a function that modifies this figure frame by frame to record.\n",
    "\"\"\"Update the point location at each frame\"\"\"\n",
    "function move_dot2(i)\n",
    "    location[] = location[] + [0.5, 0.75]\n",
    "end\n",
    "\n",
    "# 3. Pass an iterable that has the same number of elements as frames in the animation\n",
    "framerate = 30\n",
    "frames = 1:framerate\n",
    "\n",
    "# 4. Create an animation with `record`\n",
    "record(move_dot2, fig, \"moving_dot2.gif\", frames;\n",
    "        framerate = framerate) "
   ]
  },
  {
   "cell_type": "markdown",
   "id": "4cfdf17c",
   "metadata": {},
   "source": [
    "![img](moving_dot2.gif)"
   ]
  },
  {
   "attachments": {},
   "cell_type": "markdown",
   "id": "e938073a",
   "metadata": {},
   "source": [
    "## Line Plot Example\n",
    "\n",
    "Next, we'll compare the output from base `Plots` to animate a line plot. Here's an example of the syntax for animating a line plot with `Plots`:\n",
    "\n",
    "```julia\n",
    "using Plots\n",
    "# Simple dataset of 50 random numbers\n",
    "y = rand(50)\n",
    "\n",
    "# Use the @animate macro in front of a loop to create each frame of your animation\n",
    "anim = @animate for i in 1:50\n",
    "    # At each iteration we will plot a new subset of the data\n",
    "    # I set the xlimits and ylimits so the x/y axes don't autofit as the data grows\n",
    "    plot(y[1:i], \n",
    "         xlims=(1,50),\n",
    "         ylims=(0,1))\n",
    "end\n",
    "\n",
    "# Save the animation as a gif and display it\n",
    "gif(anim)\n",
    "```"
   ]
  },
  {
   "attachments": {},
   "cell_type": "markdown",
   "id": "27ef60f6",
   "metadata": {},
   "source": [
    "The above code should create a line plot where the lines grow from left to right."
   ]
  },
  {
   "attachments": {},
   "cell_type": "markdown",
   "id": "d86f54a0",
   "metadata": {},
   "source": [
    "Let's see how `Makie` compares:"
   ]
  },
  {
   "cell_type": "code",
   "execution_count": 7,
   "id": "fd6483bb",
   "metadata": {},
   "outputs": [
    {
     "data": {
      "image/png": "[encoded data removed]"
     },
     "execution_count": 7,
     "metadata": {},
     "output_type": "execute_result"
    }
   ],
   "source": [
    "using Random\n",
    "Random.seed!(42)\n",
    "\n",
    "y = rand(50)\n",
    "x = range(1,50)\n",
    "fig = lines(x,y)"
   ]
  },
  {
   "attachments": {},
   "cell_type": "markdown",
   "id": "62924783",
   "metadata": {},
   "source": [
    "Next let's animate it using the `Point2f` syntax to hold our points. An `Observable` is an array so the value will start at (0,0) but we'll append new points to the array for each frame in the animation."
   ]
  },
  {
   "cell_type": "code",
   "execution_count": 8,
   "id": "cb4c549e",
   "metadata": {},
   "outputs": [
    {
     "data": {
      "text/plain": [
       "\"moving_lines.gif\""
      ]
     },
     "execution_count": 8,
     "metadata": {},
     "output_type": "execute_result"
    }
   ],
   "source": [
    "points = Observable(Point2f[(0, 0)])\n",
    "\n",
    "fig, ax, lineplot = lines(points)\n",
    "limits!(ax, 0, 50, 0, 1)\n",
    "\n",
    "function update_lines(i)\n",
    "    new_point = Point2f(x[i], y[i])\n",
    "    # Observables are arrays, so you can add to them\n",
    "    points[] = push!(points[], new_point)\n",
    "end\n",
    "\n",
    "record(update_lines, fig, \"moving_lines.gif\", 1:50; framerate=12)"
   ]
  },
  {
   "attachments": {},
   "cell_type": "markdown",
   "id": "22059a97",
   "metadata": {},
   "source": [
    "![img](moving_lines.gif)"
   ]
  },
  {
   "cell_type": "code",
   "execution_count": null,
   "id": "99c2b52d",
   "metadata": {},
   "outputs": [],
   "source": []
  }
 ],
 "metadata": {
  "hide_input": false,
  "kernelspec": {
   "display_name": "Julia 1.8.3",
   "language": "julia",
   "name": "julia-1.8"
  },
  "language_info": {
   "file_extension": ".jl",
   "mimetype": "application/julia",
   "name": "julia",
   "version": "1.8.3"
  },
  "toc": {
   "base_numbering": 1,
   "nav_menu": {},
   "number_sections": true,
   "sideBar": true,
   "skip_h1_title": false,
   "title_cell": "Table of Contents",
   "title_sidebar": "Contents",
   "toc_cell": false,
   "toc_position": {},
   "toc_section_display": true,
   "toc_window_display": false
  },
  "varInspector": {
   "cols": {
    "lenName": 16,
    "lenType": 16,
    "lenVar": 40
   },
   "kernels_config": {
    "python": {
     "delete_cmd_postfix": "",
     "delete_cmd_prefix": "del ",
     "library": "var_list.py",
     "varRefreshCmd": "print(var_dic_list())"
    },
    "r": {
     "delete_cmd_postfix": ") ",
     "delete_cmd_prefix": "rm(",
     "library": "var_list.r",
     "varRefreshCmd": "cat(var_dic_list()) "
    }
   },
   "types_to_exclude": [
    "module",
    "function",
    "builtin_function_or_method",
    "instance",
    "_Feature"
   ],
   "window_display": false
  }
 },
 "nbformat": 4,
 "nbformat_minor": 5
}
