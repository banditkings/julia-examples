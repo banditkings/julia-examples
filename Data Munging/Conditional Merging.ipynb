{
 "cells": [
  {
   "cell_type": "markdown",
   "metadata": {},
   "source": [
    "Following the [example I used in Python](https://www.nelsontang.com/blog/2021-11-25-pandas-conditional-merging/), where I want to conditionally join two dataframes with 'wildcard' categories, I'll demonstrate the same technique in Julia and the `DataFramesMeta` package."
   ]
  },
  {
   "cell_type": "code",
   "execution_count": 1,
   "metadata": {},
   "outputs": [],
   "source": [
    "using DataFramesMeta"
   ]
  },
  {
   "cell_type": "code",
   "execution_count": 92,
   "metadata": {},
   "outputs": [
    {
     "data": {
      "text/html": [
       "<div class=\"data-frame\"><p>4 rows × 3 columns</p><table class=\"data-frame\"><thead><tr><th></th><th>date</th><th>quantity</th><th>brand</th></tr><tr><th></th><th title=\"String\">String</th><th title=\"Int64\">Int64</th><th title=\"String\">String</th></tr></thead><tbody><tr><th>1</th><td>2021-11-15</td><td>1</td><td>Outdoor</td></tr><tr><th>2</th><td>2021-11-20</td><td>2</td><td>Leisure</td></tr><tr><th>3</th><td>2021-11-25</td><td>3</td><td>Athletic</td></tr><tr><th>4</th><td>2021-11-26</td><td>2</td><td>Outdoor</td></tr></tbody></table></div>"
      ],
      "text/latex": [
       "\\begin{tabular}{r|ccc}\n",
       "\t& date & quantity & brand\\\\\n",
       "\t\\hline\n",
       "\t& String & Int64 & String\\\\\n",
       "\t\\hline\n",
       "\t1 & 2021-11-15 & 1 & Outdoor \\\\\n",
       "\t2 & 2021-11-20 & 2 & Leisure \\\\\n",
       "\t3 & 2021-11-25 & 3 & Athletic \\\\\n",
       "\t4 & 2021-11-26 & 2 & Outdoor \\\\\n",
       "\\end{tabular}\n"
      ],
      "text/plain": [
       "\u001b[1m4×3 DataFrame\u001b[0m\n",
       "\u001b[1m Row \u001b[0m│\u001b[1m date       \u001b[0m\u001b[1m quantity \u001b[0m\u001b[1m brand    \u001b[0m\n",
       "\u001b[1m     \u001b[0m│\u001b[90m String     \u001b[0m\u001b[90m Int64    \u001b[0m\u001b[90m String   \u001b[0m\n",
       "─────┼────────────────────────────────\n",
       "   1 │ 2021-11-15         1  Outdoor\n",
       "   2 │ 2021-11-20         2  Leisure\n",
       "   3 │ 2021-11-25         3  Athletic\n",
       "   4 │ 2021-11-26         2  Outdoor"
      ]
     },
     "execution_count": 92,
     "metadata": {},
     "output_type": "execute_result"
    }
   ],
   "source": [
    "# Create our two dataframes, starting with the left dataframe\n",
    "sales_volume_table = DataFrame(\"date\"=>[\"2021-11-15\", \"2021-11-20\", \"2021-11-25\", \"2021-11-26\"], \n",
    "                               \"quantity\"=>[1,2,3,2],\n",
    "                               \"brand\"=>[\"Outdoor\", \"Leisure\", \"Athletic\", \"Outdoor\"])"
   ]
  },
  {
   "cell_type": "code",
   "execution_count": 93,
   "metadata": {},
   "outputs": [
    {
     "data": {
      "text/html": [
       "<div class=\"data-frame\"><p>2 rows × 4 columns</p><table class=\"data-frame\"><thead><tr><th></th><th>start_date</th><th>end_date</th><th>brand</th><th>rebate_per_unit</th></tr><tr><th></th><th title=\"String\">String</th><th title=\"String\">String</th><th title=\"String\">String</th><th title=\"Int64\">Int64</th></tr></thead><tbody><tr><th>1</th><td>2021-11-01</td><td>2021-11-25</td><td>ANY</td><td>3</td></tr><tr><th>2</th><td>2021-11-25</td><td>2021-11-26</td><td>Outdoor</td><td>5</td></tr></tbody></table></div>"
      ],
      "text/latex": [
       "\\begin{tabular}{r|cccc}\n",
       "\t& start\\_date & end\\_date & brand & rebate\\_per\\_unit\\\\\n",
       "\t\\hline\n",
       "\t& String & String & String & Int64\\\\\n",
       "\t\\hline\n",
       "\t1 & 2021-11-01 & 2021-11-25 & ANY & 3 \\\\\n",
       "\t2 & 2021-11-25 & 2021-11-26 & Outdoor & 5 \\\\\n",
       "\\end{tabular}\n"
      ],
      "text/plain": [
       "\u001b[1m2×4 DataFrame\u001b[0m\n",
       "\u001b[1m Row \u001b[0m│\u001b[1m start_date \u001b[0m\u001b[1m end_date   \u001b[0m\u001b[1m brand   \u001b[0m\u001b[1m rebate_per_unit \u001b[0m\n",
       "\u001b[1m     \u001b[0m│\u001b[90m String     \u001b[0m\u001b[90m String     \u001b[0m\u001b[90m String  \u001b[0m\u001b[90m Int64           \u001b[0m\n",
       "─────┼──────────────────────────────────────────────────\n",
       "   1 │ 2021-11-01  2021-11-25  ANY                    3\n",
       "   2 │ 2021-11-25  2021-11-26  Outdoor                5"
      ]
     },
     "execution_count": 93,
     "metadata": {},
     "output_type": "execute_result"
    }
   ],
   "source": [
    "# right dataframe\n",
    "promos_table = DataFrame(\"start_date\"=>[\"2021-11-01\", \"2021-11-25\"],\n",
    "                         \"end_date\"=>[\"2021-11-25\", \"2021-11-26\"],\n",
    "                         \"brand\"=>[\"ANY\", \"Outdoor\"],\n",
    "                         \"rebate_per_unit\"=>[3,5])"
   ]
  },
  {
   "cell_type": "markdown",
   "metadata": {},
   "source": [
    "Now we want to left join both dataframes where there is *either* a brand match or brand is 'ANY'. Julia has a `crossjoin` function that does exactly what we're looking for without the need to create an intermediate column like we did in pandas. "
   ]
  },
  {
   "cell_type": "code",
   "execution_count": 99,
   "metadata": {},
   "outputs": [
    {
     "data": {
      "text/html": [
       "<div class=\"data-frame\"><p>8 rows × 7 columns</p><table class=\"data-frame\"><thead><tr><th></th><th>date</th><th>quantity</th><th>brand</th><th>start_date</th><th>end_date</th><th>brand_1</th><th>rebate_per_unit</th></tr><tr><th></th><th title=\"String\">String</th><th title=\"Int64\">Int64</th><th title=\"String\">String</th><th title=\"String\">String</th><th title=\"String\">String</th><th title=\"String\">String</th><th title=\"Int64\">Int64</th></tr></thead><tbody><tr><th>1</th><td>2021-11-15</td><td>1</td><td>Outdoor</td><td>2021-11-01</td><td>2021-11-25</td><td>ANY</td><td>3</td></tr><tr><th>2</th><td>2021-11-15</td><td>1</td><td>Outdoor</td><td>2021-11-25</td><td>2021-11-26</td><td>Outdoor</td><td>5</td></tr><tr><th>3</th><td>2021-11-20</td><td>2</td><td>Leisure</td><td>2021-11-01</td><td>2021-11-25</td><td>ANY</td><td>3</td></tr><tr><th>4</th><td>2021-11-20</td><td>2</td><td>Leisure</td><td>2021-11-25</td><td>2021-11-26</td><td>Outdoor</td><td>5</td></tr><tr><th>5</th><td>2021-11-25</td><td>3</td><td>Athletic</td><td>2021-11-01</td><td>2021-11-25</td><td>ANY</td><td>3</td></tr><tr><th>6</th><td>2021-11-25</td><td>3</td><td>Athletic</td><td>2021-11-25</td><td>2021-11-26</td><td>Outdoor</td><td>5</td></tr><tr><th>7</th><td>2021-11-26</td><td>2</td><td>Outdoor</td><td>2021-11-01</td><td>2021-11-25</td><td>ANY</td><td>3</td></tr><tr><th>8</th><td>2021-11-26</td><td>2</td><td>Outdoor</td><td>2021-11-25</td><td>2021-11-26</td><td>Outdoor</td><td>5</td></tr></tbody></table></div>"
      ],
      "text/latex": [
       "\\begin{tabular}{r|ccccccc}\n",
       "\t& date & quantity & brand & start\\_date & end\\_date & brand\\_1 & rebate\\_per\\_unit\\\\\n",
       "\t\\hline\n",
       "\t& String & Int64 & String & String & String & String & Int64\\\\\n",
       "\t\\hline\n",
       "\t1 & 2021-11-15 & 1 & Outdoor & 2021-11-01 & 2021-11-25 & ANY & 3 \\\\\n",
       "\t2 & 2021-11-15 & 1 & Outdoor & 2021-11-25 & 2021-11-26 & Outdoor & 5 \\\\\n",
       "\t3 & 2021-11-20 & 2 & Leisure & 2021-11-01 & 2021-11-25 & ANY & 3 \\\\\n",
       "\t4 & 2021-11-20 & 2 & Leisure & 2021-11-25 & 2021-11-26 & Outdoor & 5 \\\\\n",
       "\t5 & 2021-11-25 & 3 & Athletic & 2021-11-01 & 2021-11-25 & ANY & 3 \\\\\n",
       "\t6 & 2021-11-25 & 3 & Athletic & 2021-11-25 & 2021-11-26 & Outdoor & 5 \\\\\n",
       "\t7 & 2021-11-26 & 2 & Outdoor & 2021-11-01 & 2021-11-25 & ANY & 3 \\\\\n",
       "\t8 & 2021-11-26 & 2 & Outdoor & 2021-11-25 & 2021-11-26 & Outdoor & 5 \\\\\n",
       "\\end{tabular}\n"
      ],
      "text/plain": [
       "\u001b[1m8×7 DataFrame\u001b[0m\n",
       "\u001b[1m Row \u001b[0m│\u001b[1m date       \u001b[0m\u001b[1m quantity \u001b[0m\u001b[1m brand    \u001b[0m\u001b[1m start_date \u001b[0m\u001b[1m end_date   \u001b[0m\u001b[1m brand_1 \u001b[0m\u001b[1m rebate\u001b[0m ⋯\n",
       "\u001b[1m     \u001b[0m│\u001b[90m String     \u001b[0m\u001b[90m Int64    \u001b[0m\u001b[90m String   \u001b[0m\u001b[90m String     \u001b[0m\u001b[90m String     \u001b[0m\u001b[90m String  \u001b[0m\u001b[90m Int64 \u001b[0m ⋯\n",
       "─────┼──────────────────────────────────────────────────────────────────────────\n",
       "   1 │ 2021-11-15         1  Outdoor   2021-11-01  2021-11-25  ANY             ⋯\n",
       "   2 │ 2021-11-15         1  Outdoor   2021-11-25  2021-11-26  Outdoor\n",
       "   3 │ 2021-11-20         2  Leisure   2021-11-01  2021-11-25  ANY\n",
       "   4 │ 2021-11-20         2  Leisure   2021-11-25  2021-11-26  Outdoor\n",
       "   5 │ 2021-11-25         3  Athletic  2021-11-01  2021-11-25  ANY             ⋯\n",
       "   6 │ 2021-11-25         3  Athletic  2021-11-25  2021-11-26  Outdoor\n",
       "   7 │ 2021-11-26         2  Outdoor   2021-11-01  2021-11-25  ANY\n",
       "   8 │ 2021-11-26         2  Outdoor   2021-11-25  2021-11-26  Outdoor\n",
       "\u001b[36m                                                                1 column omitted\u001b[0m"
      ]
     },
     "execution_count": 99,
     "metadata": {},
     "output_type": "execute_result"
    }
   ],
   "source": [
    "results = crossjoin(sales_volume_table, promos_table, makeunique=true)"
   ]
  },
  {
   "cell_type": "code",
   "execution_count": 100,
   "metadata": {},
   "outputs": [
    {
     "data": {
      "text/html": [
       "<div class=\"data-frame\"><p>4 rows × 7 columns</p><table class=\"data-frame\"><thead><tr><th></th><th>date</th><th>quantity</th><th>brand</th><th>start_date</th><th>end_date</th><th>brand_1</th><th>rebate_per_unit</th></tr><tr><th></th><th title=\"String\">String</th><th title=\"Int64\">Int64</th><th title=\"String\">String</th><th title=\"String\">String</th><th title=\"String\">String</th><th title=\"String\">String</th><th title=\"Int64\">Int64</th></tr></thead><tbody><tr><th>1</th><td>2021-11-15</td><td>1</td><td>Outdoor</td><td>2021-11-01</td><td>2021-11-25</td><td>ANY</td><td>3</td></tr><tr><th>2</th><td>2021-11-20</td><td>2</td><td>Leisure</td><td>2021-11-01</td><td>2021-11-25</td><td>ANY</td><td>3</td></tr><tr><th>3</th><td>2021-11-25</td><td>3</td><td>Athletic</td><td>2021-11-01</td><td>2021-11-25</td><td>ANY</td><td>3</td></tr><tr><th>4</th><td>2021-11-26</td><td>2</td><td>Outdoor</td><td>2021-11-25</td><td>2021-11-26</td><td>Outdoor</td><td>5</td></tr></tbody></table></div>"
      ],
      "text/latex": [
       "\\begin{tabular}{r|ccccccc}\n",
       "\t& date & quantity & brand & start\\_date & end\\_date & brand\\_1 & rebate\\_per\\_unit\\\\\n",
       "\t\\hline\n",
       "\t& String & Int64 & String & String & String & String & Int64\\\\\n",
       "\t\\hline\n",
       "\t1 & 2021-11-15 & 1 & Outdoor & 2021-11-01 & 2021-11-25 & ANY & 3 \\\\\n",
       "\t2 & 2021-11-20 & 2 & Leisure & 2021-11-01 & 2021-11-25 & ANY & 3 \\\\\n",
       "\t3 & 2021-11-25 & 3 & Athletic & 2021-11-01 & 2021-11-25 & ANY & 3 \\\\\n",
       "\t4 & 2021-11-26 & 2 & Outdoor & 2021-11-25 & 2021-11-26 & Outdoor & 5 \\\\\n",
       "\\end{tabular}\n"
      ],
      "text/plain": [
       "\u001b[1m4×7 DataFrame\u001b[0m\n",
       "\u001b[1m Row \u001b[0m│\u001b[1m date       \u001b[0m\u001b[1m quantity \u001b[0m\u001b[1m brand    \u001b[0m\u001b[1m start_date \u001b[0m\u001b[1m end_date   \u001b[0m\u001b[1m brand_1 \u001b[0m\u001b[1m rebate\u001b[0m ⋯\n",
       "\u001b[1m     \u001b[0m│\u001b[90m String     \u001b[0m\u001b[90m Int64    \u001b[0m\u001b[90m String   \u001b[0m\u001b[90m String     \u001b[0m\u001b[90m String     \u001b[0m\u001b[90m String  \u001b[0m\u001b[90m Int64 \u001b[0m ⋯\n",
       "─────┼──────────────────────────────────────────────────────────────────────────\n",
       "   1 │ 2021-11-15         1  Outdoor   2021-11-01  2021-11-25  ANY             ⋯\n",
       "   2 │ 2021-11-20         2  Leisure   2021-11-01  2021-11-25  ANY\n",
       "   3 │ 2021-11-25         3  Athletic  2021-11-01  2021-11-25  ANY\n",
       "   4 │ 2021-11-26         2  Outdoor   2021-11-25  2021-11-26  Outdoor\n",
       "\u001b[36m                                                                1 column omitted\u001b[0m"
      ]
     },
     "execution_count": 100,
     "metadata": {},
     "output_type": "execute_result"
    }
   ],
   "source": [
    "# Filter the results where the two columns match, OR the right column is 'ANY'\n",
    "@rsubset(results, (:brand==:brand_1) || (:brand_1==\"ANY\"), \n",
    "                  (:date>=:start_date) && (:date <=:end_date))"
   ]
  },
  {
   "cell_type": "code",
   "execution_count": null,
   "metadata": {},
   "outputs": [],
   "source": []
  }
 ],
 "metadata": {
  "kernelspec": {
   "display_name": "Julia 1.7.0",
   "language": "julia",
   "name": "julia-1.7"
  },
  "language_info": {
   "file_extension": ".jl",
   "mimetype": "application/julia",
   "name": "julia",
   "version": "1.7.0"
  }
 },
 "nbformat": 4,
 "nbformat_minor": 4
}
